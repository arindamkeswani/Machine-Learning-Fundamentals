{
  "nbformat": 4,
  "nbformat_minor": 0,
  "metadata": {
    "colab": {
      "name": "2. Linear Regression best fit line algorithm.ipynb",
      "provenance": [],
      "collapsed_sections": [],
      "authorship_tag": "ABX9TyOrUf0vkNy/bhLpjakUIilf"
    },
    "kernelspec": {
      "name": "python3",
      "display_name": "Python 3"
    }
  },
  "cells": [
    {
      "cell_type": "code",
      "metadata": {
        "id": "AI8TAV2Xenxa",
        "colab_type": "code",
        "colab": {}
      },
      "source": [
        "#Part 1: Program to calculate and plot the best fit slope\n",
        "from statistics import mean\n",
        "import numpy as np\n",
        "import matplotlib.pyplot as plt\n",
        "\n",
        "xs=np.array([1,2,3,4,5,6], dtype=np.float64)\n",
        "ys=np.array([5,4,6,5,6,7], dtype=np.float64)\n",
        "\n",
        "\n",
        "#plt.scatter(xs,ys)\n",
        "#plt.show()"
      ],
      "execution_count": 9,
      "outputs": []
    },
    {
      "cell_type": "code",
      "metadata": {
        "id": "i8ATgWWosXlc",
        "colab_type": "code",
        "colab": {
          "base_uri": "https://localhost:8080/",
          "height": 34
        },
        "outputId": "ac52b54f-392e-40f0-e1b7-e1a1a1423da9"
      },
      "source": [
        "def best_fit_slope_and_intercept(xs,ys):\n",
        "  m= ( ((mean(xs) * mean(ys)) - mean(xs*ys))   /\n",
        "      ( (mean(xs)**2) - mean(xs**2)   ) ) #from formula\n",
        "\n",
        "  b= mean(ys) - m*mean(xs)  #from formula\n",
        "  return m,b\n",
        "\n",
        "m,b=best_fit_slope_and_intercept(xs,ys)\n",
        "print(m,b)"
      ],
      "execution_count": 10,
      "outputs": [
        {
          "output_type": "stream",
          "text": [
            "0.42857142857142866 4.0\n"
          ],
          "name": "stdout"
        }
      ]
    },
    {
      "cell_type": "code",
      "metadata": {
        "id": "Lfv97ru4vCd6",
        "colab_type": "code",
        "colab": {
          "base_uri": "https://localhost:8080/",
          "height": 282
        },
        "outputId": "238ada73-4da0-4ea6-c183-82f26389841b"
      },
      "source": [
        "#Part 2: y-intercept and best fit line\n",
        "#Changes made in the above function itself\n",
        "\n",
        "regression_line = [(m*x+b) for x in xs]\n",
        "\n",
        "\n",
        "pred_x=8\n",
        "pred_y=(m*pred_x) + b\n",
        "\n",
        "from matplotlib import style\n",
        "style.use('fivethirtyeight')\n",
        "plt.scatter(xs,ys)\n",
        "plt.scatter(pred_x,pred_y, color='g')\n",
        "plt.plot(xs,regression_line)\n",
        "plt.show()"
      ],
      "execution_count": 11,
      "outputs": [
        {
          "output_type": "display_data",
          "data": {
            "image/png": "[encoded data removed]",
            "text/plain": [
              "<Figure size 432x288 with 1 Axes>"
            ]
          },
          "metadata": {
            "tags": []
          }
        }
      ]
    },
    {
      "cell_type": "code",
      "metadata": {
        "id": "mv-6onNEx5tI",
        "colab_type": "code",
        "colab": {
          "base_uri": "https://localhost:8080/",
          "height": 34
        },
        "outputId": "16bada0b-c767-402f-9a33-5c90bc11c019"
      },
      "source": [
        "#Part 2: Applying R squared theorem\n",
        "\n",
        "def squared_error(y_orig, y_line):\n",
        "\n",
        "  return sum((y_line - y_orig)**2)\n",
        "\n",
        "def coefficient_of_determination(y_orig, y_line):\n",
        "  y_mean_line = [mean(y_orig) for y in y_orig]\n",
        "  squared_error_regr= squared_error(y_orig, y_line)\n",
        "  squared_error_y_mean= squared_error(y_orig, y_mean_line)\n",
        "  return 1 - (squared_error_regr/squared_error_y_mean)\n",
        "\n",
        "r_sq= coefficient_of_determination(ys, regression_line)\n",
        "print(r_sq)\n",
        "\n",
        "#Higher the r_sq value, better the line"
      ],
      "execution_count": 12,
      "outputs": [
        {
          "output_type": "stream",
          "text": [
            "0.5844155844155845\n"
          ],
          "name": "stdout"
        }
      ]
    },
    {
      "cell_type": "code",
      "metadata": {
        "id": "gteH96l2NuMf",
        "colab_type": "code",
        "colab": {
          "base_uri": "https://localhost:8080/",
          "height": 316
        },
        "outputId": "5c358dcc-b623-4aab-efde-c8f4099eaf38"
      },
      "source": [
        "#Part 3: Testing assumptions\n",
        "import random\n",
        "\n",
        "def create_dataset(hm, variance, step=2, correlation=False):\n",
        "  val = 1\n",
        "  ys=[]\n",
        "\n",
        "  for i in range(hm):\n",
        "    y=val + random.randrange(-variance , variance)\n",
        "    ys.append(y)\n",
        "\n",
        "    if correlation and correlation == 'pos':\n",
        "      val += step\n",
        "    elif correlation and correlation == 'neg':\n",
        "      val -= step\n",
        "  xs=[i for i in range(len(ys))]\n",
        "\n",
        "  return np.array(xs, dtype= np.float64),np.array(ys, dtype= np.float64)\n",
        "\n",
        "xs,ys= create_dataset(40, 10, 2, correlation='pos') #lesser the variance, more the coefficient\n",
        "m,b=best_fit_slope_and_intercept(xs,ys)\n",
        "print(m,b)\n",
        "regression_line = [(m*x+b) for x in xs]\n",
        "\n",
        "r_sq= coefficient_of_determination(ys, regression_line)\n",
        "print(r_sq)\n",
        "\n",
        "pred_x=8\n",
        "pred_y=(m*pred_x) + b\n",
        "\n",
        "plt.scatter(xs,ys)\n",
        "plt.scatter(pred_x,pred_y,s=100 ,color='g')\n",
        "plt.plot(xs,regression_line)\n",
        "plt.show()"
      ],
      "execution_count": 15,
      "outputs": [
        {
          "output_type": "stream",
          "text": [
            "2.0620075046904303 0.615853658536615\n",
            "0.9449881620647425\n"
          ],
          "name": "stdout"
        },
        {
          "output_type": "display_data",
          "data": {
            "image/png": "[encoded data removed]",
            "text/plain": [
              "<Figure size 432x288 with 1 Axes>"
            ]
          },
          "metadata": {
            "tags": []
          }
        }
      ]
    },
    {
      "cell_type": "code",
      "metadata": {
        "id": "Ko-2yzQOSFhX",
        "colab_type": "code",
        "colab": {}
      },
      "source": [
        ""
      ],
      "execution_count": 13,
      "outputs": []
    }
  ]
}