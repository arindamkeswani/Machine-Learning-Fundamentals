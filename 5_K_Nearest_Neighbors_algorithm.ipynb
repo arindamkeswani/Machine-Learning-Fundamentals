{
  "nbformat": 4,
  "nbformat_minor": 0,
  "metadata": {
    "colab": {
      "name": "5. K-Nearest Neighbors algorithm.ipynb",
      "provenance": [],
      "collapsed_sections": [],
      "authorship_tag": "ABX9TyNjlOELhdIGO46Mj6jXQ0ap"
    },
    "kernelspec": {
      "name": "python3",
      "display_name": "Python 3"
    }
  },
  "cells": [
    {
      "cell_type": "code",
      "metadata": {
        "id": "cc7rGKKjELc7",
        "colab_type": "code",
        "colab": {
          "base_uri": "https://localhost:8080/",
          "height": 282
        },
        "outputId": "eae4bf7b-5f8c-411e-a7ad-d9c7754f75aa"
      },
      "source": [
        "#Part 1: KNN Algorithm\n",
        "import numpy as np\n",
        "from math import sqrt\n",
        "import matplotlib.pyplot as plt\n",
        "from matplotlib import style\n",
        "from collections import Counter\n",
        "import warnings\n",
        "style.use('fivethirtyeight')\n",
        "\n",
        "dataset = {'k':[[1,2],[2,3],[3,1]] , 'r':[[6,5],[7,7],[8,6]]}\n",
        "\n",
        "new_features= [5,7]\n",
        "\n",
        "for i in dataset:\n",
        "  for ii in dataset[i]:\n",
        "    plt.scatter(ii[0],ii[1], s=100, color=i)\n",
        "plt.scatter(new_features[0],new_features[1],s=100)\n",
        "\n",
        "plt.show()"
      ],
      "execution_count": 10,
      "outputs": [
        {
          "output_type": "display_data",
          "data": {
            "image/png": "[encoded data removed]",
            "text/plain": [
              "<Figure size 432x288 with 1 Axes>"
            ]
          },
          "metadata": {
            "tags": []
          }
        }
      ]
    },
    {
      "cell_type": "code",
      "metadata": {
        "id": "kXbXg_WHG3zc",
        "colab_type": "code",
        "colab": {
          "base_uri": "https://localhost:8080/",
          "height": 299
        },
        "outputId": "c165e608-e6d2-47c7-837f-b42241bcc812"
      },
      "source": [
        "#Part 2: KNN Algorithm\n",
        "def k_nearest_neighbors(data, predict, k = 3):\n",
        "  if len(data)>k:\n",
        "    warnings.warn('K is set to a value that is less than the number of voting groups!')\n",
        "\n",
        "  distances = []\n",
        "\n",
        "  for group in data:\n",
        "    for features in data[group]:\n",
        "      #euclidean_distance = np.sqrt( np.sum(( np.array(features) - np.array(predict))**2) )\n",
        "      euclidean_distance = np.linalg.norm( np.array(features) - np.array(predict))\n",
        "      distances.append([ euclidean_distance, group])\n",
        "  \n",
        "  votes = [ i[1] for i in sorted(distances) [:k]]\n",
        "\n",
        "  #print(Counter(votes).most_common(1))\n",
        "  vote_result = Counter(votes).most_common(1)[0][0]\n",
        "  return vote_result\n",
        "result= k_nearest_neighbors(dataset, new_features, k = 3)\n",
        "print(result)\n",
        "\n",
        "for i in dataset:\n",
        "  for ii in dataset[i]:\n",
        "    plt.scatter(ii[0],ii[1], s=100, color=i)\n",
        "plt.scatter(new_features[0],new_features[1],s=100, color=result)\n",
        "\n",
        "plt.show()"
      ],
      "execution_count": 11,
      "outputs": [
        {
          "output_type": "stream",
          "text": [
            "r\n"
          ],
          "name": "stdout"
        },
        {
          "output_type": "display_data",
          "data": {
            "image/png": "[encoded data removed]",
            "text/plain": [
              "<Figure size 432x288 with 1 Axes>"
            ]
          },
          "metadata": {
            "tags": []
          }
        }
      ]
    },
    {
      "cell_type": "code",
      "metadata": {
        "id": "buNTechnxnfk",
        "colab_type": "code",
        "colab": {
          "base_uri": "https://localhost:8080/",
          "height": 269
        },
        "outputId": "bd001f12-2b52-4d57-f114-e863627c690f"
      },
      "source": [
        "#KNN without scikitlearn using Breast Cancer (Original) dataset\n",
        "\n",
        "!pip install PyDrive\n",
        "from google.colab import drive\n",
        "drive.mount('/content/drive')"
      ],
      "execution_count": 12,
      "outputs": [
        {
          "output_type": "stream",
          "text": [
            "Requirement already satisfied: PyDrive in /usr/local/lib/python3.6/dist-packages (1.3.1)\n",
            "Requirement already satisfied: PyYAML>=3.0 in /usr/local/lib/python3.6/dist-packages (from PyDrive) (3.13)\n",
            "Requirement already satisfied: google-api-python-client>=1.2 in /usr/local/lib/python3.6/dist-packages (from PyDrive) (1.7.12)\n",
            "Requirement already satisfied: oauth2client>=4.0.0 in /usr/local/lib/python3.6/dist-packages (from PyDrive) (4.1.3)\n",
            "Requirement already satisfied: six<2dev,>=1.6.1 in /usr/local/lib/python3.6/dist-packages (from google-api-python-client>=1.2->PyDrive) (1.15.0)\n",
            "Requirement already satisfied: uritemplate<4dev,>=3.0.0 in /usr/local/lib/python3.6/dist-packages (from google-api-python-client>=1.2->PyDrive) (3.0.1)\n",
            "Requirement already satisfied: google-auth>=1.4.1 in /usr/local/lib/python3.6/dist-packages (from google-api-python-client>=1.2->PyDrive) (1.17.2)\n",
            "Requirement already satisfied: google-auth-httplib2>=0.0.3 in /usr/local/lib/python3.6/dist-packages (from google-api-python-client>=1.2->PyDrive) (0.0.4)\n",
            "Requirement already satisfied: httplib2<1dev,>=0.17.0 in /usr/local/lib/python3.6/dist-packages (from google-api-python-client>=1.2->PyDrive) (0.17.4)\n",
            "Requirement already satisfied: pyasn1-modules>=0.0.5 in /usr/local/lib/python3.6/dist-packages (from oauth2client>=4.0.0->PyDrive) (0.2.8)\n",
            "Requirement already satisfied: rsa>=3.1.4 in /usr/local/lib/python3.6/dist-packages (from oauth2client>=4.0.0->PyDrive) (4.6)\n",
            "Requirement already satisfied: pyasn1>=0.1.7 in /usr/local/lib/python3.6/dist-packages (from oauth2client>=4.0.0->PyDrive) (0.4.8)\n",
            "Requirement already satisfied: setuptools>=40.3.0 in /usr/local/lib/python3.6/dist-packages (from google-auth>=1.4.1->google-api-python-client>=1.2->PyDrive) (49.2.0)\n",
            "Requirement already satisfied: cachetools<5.0,>=2.0.0 in /usr/local/lib/python3.6/dist-packages (from google-auth>=1.4.1->google-api-python-client>=1.2->PyDrive) (4.1.1)\n",
            "Drive already mounted at /content/drive; to attempt to forcibly remount, call drive.mount(\"/content/drive\", force_remount=True).\n"
          ],
          "name": "stdout"
        }
      ]
    },
    {
      "cell_type": "code",
      "metadata": {
        "id": "qeWhE9aMeGo5",
        "colab_type": "code",
        "colab": {}
      },
      "source": [
        "import pandas as pd\n",
        "import random\n",
        "\n",
        "data_path='/content/drive/My Drive/Datasets/Breast Cancer (original)/breast-cancer-wisconsin.data.txt'\n",
        "\n",
        "df= pd.read_csv(data_path)\n",
        "df.replace('?',-99999, inplace=True)\n",
        "df.drop(['id'],1,inplace=True)\n",
        "\n",
        "full_data = df.astype(float).values.tolist() #Converting to float as some values are present as strings\n",
        "\n",
        "random.shuffle(full_data)"
      ],
      "execution_count": 13,
      "outputs": []
    },
    {
      "cell_type": "code",
      "metadata": {
        "id": "vWpiek59fhc7",
        "colab_type": "code",
        "colab": {}
      },
      "source": [
        "#Separating data into train and test set\n",
        "\n",
        "test_size = 0.2\n",
        "train_set = { 2:[], 4:[] }\n",
        "test_set = { 2:[], 4:[] }\n",
        "\n",
        "train_data = full_data[:-int(test_size*len(full_data))]\n",
        "test_data = full_data[-int(test_size*len(full_data)):]"
      ],
      "execution_count": 14,
      "outputs": []
    },
    {
      "cell_type": "code",
      "metadata": {
        "id": "X3AEahPBgg46",
        "colab_type": "code",
        "colab": {}
      },
      "source": [
        "#Populating the dictionries\n",
        "for i in train_data:\n",
        "  train_set[i[-1]].append(i[:-1]) \n",
        "\n",
        "for i in test_data:\n",
        "  test_set[i[-1]].append(i[:-1]) "
      ],
      "execution_count": 15,
      "outputs": []
    },
    {
      "cell_type": "code",
      "metadata": {
        "id": "ButAfnZThnlH",
        "colab_type": "code",
        "colab": {
          "base_uri": "https://localhost:8080/",
          "height": 34
        },
        "outputId": "cea223fb-62d2-48f0-bbd8-aad4c6f3b211"
      },
      "source": [
        "#Calculating results\n",
        "\n",
        "correct = 0\n",
        "total = 0\n",
        "for group in test_set:\n",
        "  for data in test_set[group]:\n",
        "    vote = k_nearest_neighbors(train_set, data, k=5)\n",
        "    if group == vote:\n",
        "      correct += 1\n",
        "    total += 1\n",
        "\n",
        "print(\"Accuracy: \",correct/total)"
      ],
      "execution_count": 17,
      "outputs": [
        {
          "output_type": "stream",
          "text": [
            "Accuracy:  0.9856115107913669\n"
          ],
          "name": "stdout"
        }
      ]
    }
  ]
}