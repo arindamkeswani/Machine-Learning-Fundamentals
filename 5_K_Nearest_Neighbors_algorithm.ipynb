{
  "nbformat": 4,
  "nbformat_minor": 0,
  "metadata": {
    "colab": {
      "name": "5. K-Nearest Neighbors algorithm.ipynb",
      "provenance": [],
      "collapsed_sections": [],
      "authorship_tag": "ABX9TyPIw6bSUpozx2eawPxRM2Aw"
    },
    "kernelspec": {
      "name": "python3",
      "display_name": "Python 3"
    }
  },
  "cells": [
    {
      "cell_type": "code",
      "metadata": {
        "id": "cc7rGKKjELc7",
        "colab_type": "code",
        "colab": {
          "base_uri": "https://localhost:8080/",
          "height": 282
        },
        "outputId": "0cfede06-ba25-4512-ecf4-d6aceeb02c63"
      },
      "source": [
        "#Part 1: KNN Algorithm\n",
        "import numpy as np\n",
        "from math import sqrt\n",
        "import matplotlib.pyplot as plt\n",
        "from matplotlib import style\n",
        "from collections import Counter\n",
        "import warnings\n",
        "style.use('fivethirtyeight')\n",
        "\n",
        "dataset = {'k':[[1,2],[2,3],[3,1]] , 'r':[[6,5],[7,7],[8,6]]}\n",
        "\n",
        "new_features= [5,7]\n",
        "\n",
        "for i in dataset:\n",
        "  for ii in dataset[i]:\n",
        "    plt.scatter(ii[0],ii[1], s=100, color=i)\n",
        "plt.scatter(new_features[0],new_features[1],s=100)\n",
        "\n",
        "plt.show()"
      ],
      "execution_count": 1,
      "outputs": [
        {
          "output_type": "display_data",
          "data": {
            "image/png": "[encoded data removed]",
            "text/plain": [
              "<Figure size 432x288 with 1 Axes>"
            ]
          },
          "metadata": {
            "tags": []
          }
        }
      ]
    },
    {
      "cell_type": "code",
      "metadata": {
        "id": "kXbXg_WHG3zc",
        "colab_type": "code",
        "colab": {
          "base_uri": "https://localhost:8080/",
          "height": 296
        },
        "outputId": "c54ceab4-c3e2-4bb4-e016-eddf086bb8b9"
      },
      "source": [
        "#Part 2: KNN Algorithm\n",
        "def k_nearest_neighbors(data, predict, k = 3):\n",
        "  if len(data)>k:\n",
        "    warnings.warn('K is set to a value that is less than the number of voting groups!')\n",
        "\n",
        "  distances = []\n",
        "\n",
        "  for group in data:\n",
        "    for features in data[group]:\n",
        "      #euclidean_distance = np.sqrt( np.sum(( np.array(features) - np.array(predict))**2) )\n",
        "      euclidean_distance = np.linalg.norm( np.array(features) - np.array(predict))\n",
        "      distances.append([ euclidean_distance, group])\n",
        "  \n",
        "  votes = [ i[1] for i in sorted(distances) [:k]]\n",
        "\n",
        "  print(Counter(votes).most_common(1))\n",
        "  vote_result = Counter(votes).most_common(1)[0][0]\n",
        "  return vote_result\n",
        "result= k_nearest_neighbors(dataset, new_features, k = 3)\n",
        "print(result)\n",
        "\n",
        "for i in dataset:\n",
        "  for ii in dataset[i]:\n",
        "    plt.scatter(ii[0],ii[1], s=100, color=i)\n",
        "plt.scatter(new_features[0],new_features[1],s=100, color=result)\n",
        "\n",
        "plt.show()"
      ],
      "execution_count": 7,
      "outputs": [
        {
          "output_type": "stream",
          "text": [
            "[('r', 3)]\n",
            "r\n"
          ],
          "name": "stdout"
        },
        {
          "output_type": "display_data",
          "data": {
            "image/png": "[encoded data removed]",
            "text/plain": [
              "<Figure size 432x288 with 1 Axes>"
            ]
          },
          "metadata": {
            "tags": [],
            "needs_background": "light"
          }
        }
      ]
    },
    {
      "cell_type": "code",
      "metadata": {
        "id": "buNTechnxnfk",
        "colab_type": "code",
        "colab": {}
      },
      "source": [
        "#KNN with scikitlearn"
      ],
      "execution_count": null,
      "outputs": []
    }
  ]
}