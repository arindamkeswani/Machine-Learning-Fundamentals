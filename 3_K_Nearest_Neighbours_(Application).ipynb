{
  "nbformat": 4,
  "nbformat_minor": 0,
  "metadata": {
    "colab": {
      "name": "3. K-Nearest Neighbours (Application).ipynb",
      "provenance": [],
      "collapsed_sections": [],
      "authorship_tag": "ABX9TyPihAaisWrmNewRV/Bh1hU0",
      "include_colab_link": true
    },
    "kernelspec": {
      "name": "python3",
      "display_name": "Python 3"
    }
  },
  "cells": [
    {
      "cell_type": "markdown",
      "metadata": {
        "id": "view-in-github",
        "colab_type": "text"
      },
      "source": [
        "<a href=\"https://colab.research.google.com/github/arindamkeswani/Machine-Learning-Fundamentals/blob/master/3_K_Nearest_Neighbours_(Application).ipynb\" target=\"_parent\"><img src=\"https://colab.research.google.com/assets/colab-badge.svg\" alt=\"Open In Colab\"/></a>"
      ]
    },
    {
      "cell_type": "code",
      "metadata": {
        "id": "tvtayu1BlBQj",
        "colab_type": "code",
        "colab": {}
      },
      "source": [
        "!pip install PyDrive\n",
        "from google.colab import drive\n",
        "drive.mount('/content/drive')"
      ],
      "execution_count": null,
      "outputs": []
    },
    {
      "cell_type": "code",
      "metadata": {
        "id": "T9bwsVnTCrd7",
        "colab_type": "code",
        "colab": {}
      },
      "source": [
        "#Part 1: \n",
        "import numpy as np\n",
        "from sklearn import preprocessing, neighbors\n",
        "from sklearn.model_selection import train_test_split\n",
        "import pandas as pd\n"
      ],
      "execution_count": 19,
      "outputs": []
    },
    {
      "cell_type": "code",
      "metadata": {
        "id": "99Av1gs8lR69",
        "colab_type": "code",
        "colab": {}
      },
      "source": [
        "df_path='/content/drive/My Drive/Datasets/Breast Cancer (original)/breast-cancer-wisconsin.data.txt'  #Using Breast Cancer(Original) dataset\n",
        "df=pd.read_csv(df_path)\n",
        "print(df.columns)"
      ],
      "execution_count": null,
      "outputs": []
    },
    {
      "cell_type": "code",
      "metadata": {
        "id": "3yVrUcdqmrI_",
        "colab_type": "code",
        "colab": {}
      },
      "source": [
        "df.replace('?', -99999, inplace=True)\n",
        "df.drop(['id'],1,inplace=True)  #Heavy decrease in accuracy on including ID column"
      ],
      "execution_count": 21,
      "outputs": []
    },
    {
      "cell_type": "code",
      "metadata": {
        "id": "lNmirvtPm9Rv",
        "colab_type": "code",
        "colab": {
          "base_uri": "https://localhost:8080/",
          "height": 34
        },
        "outputId": "0b0eb49c-8af1-4f14-e33f-4d8aba49893e"
      },
      "source": [
        "X= np.array(df.drop(['class'],1))\n",
        "y= np.array(df['class'])\n",
        "\n",
        "X_train, X_test, y_train, y_test= train_test_split(X,y,test_size=0.2)\n",
        "\n",
        "clf= neighbors.KNeighborsClassifier()\n",
        "clf.fit(X_train, y_train)\n",
        "\n",
        "accuracy= clf.score(X_test, y_test)\n",
        "print(accuracy)"
      ],
      "execution_count": 22,
      "outputs": [
        {
          "output_type": "stream",
          "text": [
            "0.9571428571428572\n"
          ],
          "name": "stdout"
        }
      ]
    },
    {
      "cell_type": "code",
      "metadata": {
        "id": "1DafGzEuzZId",
        "colab_type": "code",
        "colab": {
          "base_uri": "https://localhost:8080/",
          "height": 34
        },
        "outputId": "6a93552e-4acd-4197-fd75-492b2a404a1a"
      },
      "source": [
        "#example_measures = np.array([[4,2,1,1,1,2,3,2,1],[4,2,1,2,2,2,3,2,1]]).reshape(2,-1) #Reshaping to avoid deporecation error\n",
        "example_measures = np.array([[4,2,1,1,1,2,3,2,1],[4,2,1,2,2,2,3,2,1]])\n",
        "example_measures = example_measures.reshape(len(example_measures),-1)\n",
        "prediction= clf.predict(example_measures)\n",
        "print(prediction)"
      ],
      "execution_count": 29,
      "outputs": [
        {
          "output_type": "stream",
          "text": [
            "[2 2]\n"
          ],
          "name": "stdout"
        }
      ]
    }
  ]
}