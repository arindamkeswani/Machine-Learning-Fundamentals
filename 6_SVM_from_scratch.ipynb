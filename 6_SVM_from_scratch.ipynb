{
  "nbformat": 4,
  "nbformat_minor": 0,
  "metadata": {
    "colab": {
      "name": "6. SVM from scratch.ipynb",
      "provenance": [],
      "collapsed_sections": [],
      "authorship_tag": "ABX9TyNHA9zj9FRyusdbIBtfSgpm"
    },
    "kernelspec": {
      "name": "python3",
      "display_name": "Python 3"
    }
  },
  "cells": [
    {
      "cell_type": "code",
      "metadata": {
        "id": "M3GSx9e4kkHv",
        "colab_type": "code",
        "colab": {
          "base_uri": "https://localhost:8080/",
          "height": 416
        },
        "outputId": "23fc1ce4-d67d-4775-b346-96fdeb926309"
      },
      "source": [
        "#Creating Support Vector Machine from scratch\n",
        "import matplotlib.pyplot as plt\n",
        "from matplotlib import style\n",
        "import numpy as np\n",
        "style.use('ggplot')\n",
        "\n",
        "\n",
        "class Support_Vector_Machine:\n",
        "  def __init__(self, visualisation = True):\n",
        "    self.visualisation = visualisation\n",
        "    self.colors = {1:'r' , -1:'b'}\n",
        "    if self.visualisation:\n",
        "      self.fig = plt.figure()  #The figure to the whole window\n",
        "      self.ax = self.fig.add_subplot(1,1,1) #The 1x1 subplot number 1(In case there are multiple)\n",
        "\n",
        "  def fit(self, data): #Function for training\n",
        "    self.data = data\n",
        "    # {||w|| : [w,b]}\n",
        "    opt_dict = {}\n",
        "    transforms = [[1,1],\n",
        "                  [-1,1],\n",
        "                  [-1,-1],\n",
        "                  [1,-1]]\n",
        "\n",
        "    all_data = []\n",
        "    for yi in self.data:\n",
        "      for featureset in self.data[yi]:\n",
        "        for feature in featureset:\n",
        "          all_data.append(feature)\n",
        "\n",
        "    self.max_feature_value = max(all_data)\n",
        "    self.min_feature_value = min(all_data)\n",
        "    all_data = None\n",
        "\n",
        "    step_sizes= [self.max_feature_value * 0.1,\n",
        "                 self.max_feature_value * 0.01,\n",
        "                 self.max_feature_value * 0.001] #Keep expense vs accuracy vs speed in mind\n",
        "    \n",
        "    b_range_multiple = 5 #very expensive\n",
        "    #Do not need small steps in b as compared to w\n",
        "    b_multiple = 5\n",
        "\n",
        "    latest_optimum = self.max_feature_value*10 #First element in vectow w\n",
        "\n",
        "    for step in step_sizes:\n",
        "      w = np.array([latest_optimum,latest_optimum])\n",
        "      optimized = False #We can do this because of convex \n",
        "      while not optimized:\n",
        "        for b in np.arange(-1*(self.max_feature_value * b_range_multiple),\n",
        "                           (self.max_feature_value * b_range_multiple) , step*b_multiple ):\n",
        "          for transformation in transforms:\n",
        "            w_t = w*transformation\n",
        "            found_option = True #Weakest link in SVM vvv\n",
        "\n",
        "            for  i in self.data:\n",
        "              for xi in self.data[i]:\n",
        "                yi = i\n",
        "                if not yi*(w_t@xi + b) >=1:  # Since the function is yi(wt.xi + b)>=1\n",
        "                  found_option = False\n",
        "                #print(xi, yi*(w_t@xi + b))\n",
        "            if found_option:\n",
        "              opt_dict[np.linalg.norm(w_t)] = [w_t , b]\n",
        "        \n",
        "        if w[0] < 0:\n",
        "          optimized = True\n",
        "          print(\"Optimised a step...\")\n",
        "        else:\n",
        "          # w = [5,5]\n",
        "          # step =1\n",
        "          #VVV = [4,4]\n",
        "          w = w-step\n",
        "      norms = sorted([n for n in opt_dict])\n",
        "      opt_choice = opt_dict[norms[0]]\n",
        "\n",
        "      #||w|| : [w,b]\n",
        "      self.w= opt_choice[0]  \n",
        "      self.b= opt_choice[1]\n",
        "      latest_optimum = opt_choice[0][0] + step*2\n",
        "\n",
        "    \n",
        "    for  i in self.data:\n",
        "      for xi in self.data[i]:\n",
        "        yi = i\n",
        "        #if not yi*(self.w@xi + self.b) >=1:  # Since the function is yi(wt.xi + b)>=1\n",
        "          #found_option = False\n",
        "        print(xi, \":\", yi*(self.w@xi + self.b))\n",
        "  def predict(self, features):\n",
        "    # sign( x.w + b)\n",
        "    classification = np.sign( (np.array(features) @ self.w)  + self.b)\n",
        "    if classification !=0 and self.visualisation:\n",
        "      self.ax.scatter(features[0], features[1], s=200, marker='*', c=self.colors[classification])\n",
        "\n",
        "    return classification\n",
        "\n",
        "  def visualise(self):\n",
        "    [[self.ax.scatter(x[0], x[1], s=100, color= self.colors[i]) for x in data_dict[i]] for i in data_dict]\n",
        "\n",
        "    # hyperplane = x.w + b\n",
        "    # v = x.w + b\n",
        "    # positive support vector = 1\n",
        "    # negative support vector = -1\n",
        "    # decision boundary = 0\n",
        "\n",
        "    def hyperplane(x,w,b,v):\n",
        "      return (-w[0]*x - b+v) / w[1]\n",
        "\n",
        "    datarange = (self.min_feature_value*0.9 , self.max_feature_value*1.1)\n",
        "    hyp_x_min = datarange[0]\n",
        "    hyp_x_max = datarange[1]\n",
        "\n",
        "    # x.w + b=1\n",
        "    # positive support vector = 1\n",
        "    psv1 = hyperplane(hyp_x_min, self.w, self.b, 1)\n",
        "    psv2 = hyperplane(hyp_x_max, self.w, self.b, 1)\n",
        "    self.ax.plot([hyp_x_min,hyp_x_max], [psv1,psv2], 'k')\n",
        "\n",
        "    # x.w + b=1\n",
        "    # negative support vector =-1\n",
        "    nsv1 = hyperplane(hyp_x_min, self.w, self.b, -1)\n",
        "    nsv2 = hyperplane(hyp_x_max, self.w, self.b, -1)\n",
        "    self.ax.plot([hyp_x_min,hyp_x_max], [nsv1,nsv2], 'k')\n",
        "\n",
        "    # x.w + b=0\n",
        "    # positive support vector = 1\n",
        "    db1 = hyperplane(hyp_x_min, self.w, self.b, 0)\n",
        "    db2 = hyperplane(hyp_x_max, self.w, self.b, 0)\n",
        "    self.ax.plot([hyp_x_min,hyp_x_max], [db1,db2], 'y--')\n",
        "\n",
        "    plt.show()\n",
        "\n",
        "data_dict = {-1: np.array([[1,7],\n",
        "                          [2,8],\n",
        "                          [3,8]] ) ,\n",
        "             \n",
        "              1: np.array([[5,1], \n",
        "                          [6,-1], \n",
        "                          [7,3]] )} \n",
        "\n",
        "\n",
        "svm = Support_Vector_Machine()\n",
        "svm.fit(data = data_dict)\n",
        "\n",
        "predict_us = [[0,10],\n",
        "              [1,3],\n",
        "              [3,4],\n",
        "              [5,5],\n",
        "              [5,6],\n",
        "              [6,-5],\n",
        "              [5,8]]\n",
        "for p in predict_us:\n",
        "  svm.predict(p)\n",
        "\n",
        "\n",
        "svm.visualise()"
      ],
      "execution_count": 23,
      "outputs": [
        {
          "output_type": "stream",
          "text": [
            "Optimised a step...\n",
            "Optimised a step...\n",
            "Optimised a step...\n",
            "[1 7] : 1.2239999999999465\n",
            "[2 8] : 1.2239999999999465\n",
            "[3 8] : 1.000000000000098\n",
            "[5 1] : 1.015999999998539\n",
            "[ 6 -1] : 1.6879999999980846\n",
            "[7 3] : 1.015999999998539\n"
          ],
          "name": "stdout"
        },
        {
          "output_type": "display_data",
          "data": {
            "image/png": "[encoded data removed]",
            "text/plain": [
              "<Figure size 432x288 with 1 Axes>"
            ]
          },
          "metadata": {
            "tags": []
          }
        }
      ]
    },
    {
      "cell_type": "code",
      "metadata": {
        "id": "fGdrqaWI8JMv",
        "colab_type": "code",
        "colab": {
          "base_uri": "https://localhost:8080/",
          "height": 34
        },
        "outputId": "502f6c96-cb90-44bc-e40f-1c19c8912dc7"
      },
      "source": [
        "svm.predict([4,7]), svm.predict([5,2])"
      ],
      "execution_count": 25,
      "outputs": [
        {
          "output_type": "execute_result",
          "data": {
            "text/plain": [
              "(-1.0, 1.0)"
            ]
          },
          "metadata": {
            "tags": []
          },
          "execution_count": 25
        }
      ]
    }
  ]
}