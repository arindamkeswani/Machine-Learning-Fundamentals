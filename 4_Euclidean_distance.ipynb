{
  "nbformat": 4,
  "nbformat_minor": 0,
  "metadata": {
    "colab": {
      "name": "4. Euclidean distance.ipynb",
      "provenance": [],
      "collapsed_sections": [],
      "authorship_tag": "ABX9TyMYjnzul/UDcv11lYwe23/u"
    },
    "kernelspec": {
      "name": "python3",
      "display_name": "Python 3"
    }
  },
  "cells": [
    {
      "cell_type": "code",
      "metadata": {
        "id": "yrxX5dVPBiYc",
        "colab_type": "code",
        "colab": {
          "base_uri": "https://localhost:8080/",
          "height": 34
        },
        "outputId": "8af3b9da-8ac8-4d97-ee4f-ae33d231fe1d"
      },
      "source": [
        "#Simple program to calculate Euclidean distance\n",
        "from math import sqrt\n",
        "\n",
        "plot1=[1,3]\n",
        "plot2=[2,5]\n",
        "\n",
        "#Hard-coding\n",
        "#euclidean_distance = sqrt( (plot1[0] - plot2[0])**2 + (plot1[1] - plot2[1])**2 ) \n",
        "\n",
        "s=0\n",
        "for i in range(len(plot1)): #With Loop\n",
        "  s+= (plot1[i] - plot2[i])**2\n",
        "euclidean_distance=sqrt(s)\n",
        "\n",
        "print(euclidean_distance)"
      ],
      "execution_count": 2,
      "outputs": [
        {
          "output_type": "stream",
          "text": [
            "2.23606797749979\n"
          ],
          "name": "stdout"
        }
      ]
    }
  ]
}