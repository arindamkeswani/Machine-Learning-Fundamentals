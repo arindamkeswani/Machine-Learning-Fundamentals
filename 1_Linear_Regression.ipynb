{
  "nbformat": 4,
  "nbformat_minor": 0,
  "metadata": {
    "colab": {
      "name": "1. Linear Regression.ipynb",
      "provenance": [],
      "collapsed_sections": [],
      "authorship_tag": "ABX9TyMZYe5Urq73Zn/FfrHTbmxQ",
      "include_colab_link": true
    },
    "kernelspec": {
      "name": "python3",
      "display_name": "Python 3"
    }
  },
  "cells": [
    {
      "cell_type": "markdown",
      "metadata": {
        "id": "view-in-github",
        "colab_type": "text"
      },
      "source": [
        "<a href=\"https://colab.research.google.com/github/arindamkeswani/Machine-Learning-Fundamentals/blob/master/1_Linear_Regression.ipynb\" target=\"_parent\"><img src=\"https://colab.research.google.com/assets/colab-badge.svg\" alt=\"Open In Colab\"/></a>"
      ]
    },
    {
      "cell_type": "code",
      "metadata": {
        "id": "hXoIEMSrY4b3",
        "colab_type": "code",
        "colab": {}
      },
      "source": [
        "#pART 1: REGRESSION INTRODUCTION\n",
        "!pip install quandl"
      ],
      "execution_count": null,
      "outputs": []
    },
    {
      "cell_type": "code",
      "metadata": {
        "id": "-TW_XlUjtPd1",
        "colab_type": "code",
        "colab": {}
      },
      "source": [
        "import sklearn\n",
        "#import quandl\n",
        "import pandas as pd\n",
        "\n",
        "#df= quandl.get('WIKI/GOOGL')\n",
        "\n",
        "#print(df.head())"
      ],
      "execution_count": 1,
      "outputs": []
    },
    {
      "cell_type": "code",
      "metadata": {
        "id": "dN6puTk5tsmS",
        "colab_type": "code",
        "colab": {}
      },
      "source": [
        "'''from google.colab import files\n",
        "\n",
        "df.to_csv('df.csv')\n",
        "files.download('df.csv')'''"
      ],
      "execution_count": null,
      "outputs": []
    },
    {
      "cell_type": "code",
      "metadata": {
        "id": "otqgOSo_wUat",
        "colab_type": "code",
        "colab": {}
      },
      "source": [
        "!pip install PyDrive\n",
        "from google.colab import drive\n",
        "drive.mount('/content/drive')"
      ],
      "execution_count": null,
      "outputs": []
    },
    {
      "cell_type": "code",
      "metadata": {
        "id": "18lAJSGOxBOK",
        "colab_type": "code",
        "colab": {}
      },
      "source": [
        "df_path='/content/drive/My Drive/Datasets/Google stock prices/df.csv' \n",
        "df=pd.read_csv(df_path)\n",
        "print(df.columns)"
      ],
      "execution_count": null,
      "outputs": []
    },
    {
      "cell_type": "code",
      "metadata": {
        "id": "N27GYWYgxqbz",
        "colab_type": "code",
        "colab": {}
      },
      "source": [
        "#Select columns that are needed\n",
        "df= df[['Adj. Open', 'Adj. High', 'Adj. Low', 'Adj. Close','Adj. Volume']]\n",
        "\n",
        "#Add a column with the values of high low percentage\n",
        "df['HL_PCT']= (df['Adj. High']- df['Adj. Close'])/ df['Adj. Close'] * 100.0\n",
        "\n",
        "#Calculate percentage change\n",
        "df['PCT_change']= (df['Adj. Close']- df['Adj. Open'])/ df['Adj. Open'] * 100.0\n",
        "\n",
        "#Re-define necessary columns\n",
        "df= df[['Adj. Close','HL_PCT','PCT_change','Adj. Volume']]\n",
        "\n",
        "#df.head()\n",
        "\n"
      ],
      "execution_count": null,
      "outputs": []
    },
    {
      "cell_type": "code",
      "metadata": {
        "id": "s5uictXAK5CA",
        "colab_type": "code",
        "colab": {}
      },
      "source": [
        "#PART 2: FEATURES AND LABELS\n",
        "forecast_col= 'Adj. Close' #The name of the column that we will be forecasting  \n",
        "df.fillna(-99999, inplace=True) #Fill all the places with missing values with -99999. inplace=True is used to modify the values in the origial dataframe and not return a copy \n",
        "\n",
        "import math\n",
        "forecast_out= int(math.ceil(0.01*len(df))) #Predict value 1% of total days forward\n",
        "\n",
        "df['label']= df[forecast_col].shift(-forecast_out)  #shifting rows of the column to be forecasted upwards\n",
        "\n",
        "df.dropna(inplace=True)\n",
        "\n",
        "print(df.head())\n",
        "print(df.tail())"
      ],
      "execution_count": null,
      "outputs": []
    },
    {
      "cell_type": "code",
      "metadata": {
        "id": "VkxWwUke7Nl_",
        "colab_type": "code",
        "colab": {}
      },
      "source": [
        "#PART 3: REGRESSION TRAINING AND TESTING\n",
        "#Test commit 1"
      ],
      "execution_count": null,
      "outputs": []
    }
  ]
}