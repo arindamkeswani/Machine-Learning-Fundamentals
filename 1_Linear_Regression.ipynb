{
  "nbformat": 4,
  "nbformat_minor": 0,
  "metadata": {
    "colab": {
      "name": "1. Linear Regression.ipynb",
      "provenance": [],
      "collapsed_sections": [],
      "authorship_tag": "ABX9TyNuM3lc0bouqGzfIcigRPMv"
    },
    "kernelspec": {
      "name": "python3",
      "display_name": "Python 3"
    }
  },
  "cells": [
    {
      "cell_type": "code",
      "metadata": {
        "id": "hXoIEMSrY4b3",
        "colab_type": "code",
        "colab": {}
      },
      "source": [
        "#PART 1: REGRESSION INTRODUCTION\n",
        "#!pip install quandl"
      ],
      "execution_count": 102,
      "outputs": []
    },
    {
      "cell_type": "code",
      "metadata": {
        "id": "-TW_XlUjtPd1",
        "colab_type": "code",
        "colab": {}
      },
      "source": [
        "import sklearn\n",
        "#import quandl\n",
        "import pandas as pd\n",
        "\n",
        "#df= quandl.get('WIKI/GOOGL')\n",
        "\n",
        "#print(df.head())"
      ],
      "execution_count": 103,
      "outputs": []
    },
    {
      "cell_type": "code",
      "metadata": {
        "id": "dN6puTk5tsmS",
        "colab_type": "code",
        "colab": {
          "base_uri": "https://localhost:8080/",
          "height": 35
        },
        "outputId": "7bcd59b0-0a61-4542-fc20-0dddc55373e5"
      },
      "source": [
        "'''from google.colab import files\n",
        "\n",
        "df.to_csv('df.csv')\n",
        "files.download('df.csv')'''"
      ],
      "execution_count": 104,
      "outputs": [
        {
          "output_type": "execute_result",
          "data": {
            "application/vnd.google.colaboratory.intrinsic+json": {
              "type": "string"
            },
            "text/plain": [
              "\"from google.colab import files\\n\\ndf.to_csv('df.csv')\\nfiles.download('df.csv')\""
            ]
          },
          "metadata": {
            "tags": []
          },
          "execution_count": 104
        }
      ]
    },
    {
      "cell_type": "code",
      "metadata": {
        "id": "otqgOSo_wUat",
        "colab_type": "code",
        "colab": {
          "base_uri": "https://localhost:8080/",
          "height": 269
        },
        "outputId": "340907fb-c2fe-493d-ac9b-d661eb740cf0"
      },
      "source": [
        "!pip install PyDrive\n",
        "from google.colab import drive\n",
        "drive.mount('/content/drive')"
      ],
      "execution_count": 105,
      "outputs": [
        {
          "output_type": "stream",
          "text": [
            "Requirement already satisfied: PyDrive in /usr/local/lib/python3.6/dist-packages (1.3.1)\n",
            "Requirement already satisfied: oauth2client>=4.0.0 in /usr/local/lib/python3.6/dist-packages (from PyDrive) (4.1.3)\n",
            "Requirement already satisfied: google-api-python-client>=1.2 in /usr/local/lib/python3.6/dist-packages (from PyDrive) (1.7.12)\n",
            "Requirement already satisfied: PyYAML>=3.0 in /usr/local/lib/python3.6/dist-packages (from PyDrive) (3.13)\n",
            "Requirement already satisfied: rsa>=3.1.4 in /usr/local/lib/python3.6/dist-packages (from oauth2client>=4.0.0->PyDrive) (4.6)\n",
            "Requirement already satisfied: pyasn1>=0.1.7 in /usr/local/lib/python3.6/dist-packages (from oauth2client>=4.0.0->PyDrive) (0.4.8)\n",
            "Requirement already satisfied: httplib2>=0.9.1 in /usr/local/lib/python3.6/dist-packages (from oauth2client>=4.0.0->PyDrive) (0.17.4)\n",
            "Requirement already satisfied: pyasn1-modules>=0.0.5 in /usr/local/lib/python3.6/dist-packages (from oauth2client>=4.0.0->PyDrive) (0.2.8)\n",
            "Requirement already satisfied: six>=1.6.1 in /usr/local/lib/python3.6/dist-packages (from oauth2client>=4.0.0->PyDrive) (1.15.0)\n",
            "Requirement already satisfied: google-auth>=1.4.1 in /usr/local/lib/python3.6/dist-packages (from google-api-python-client>=1.2->PyDrive) (1.17.2)\n",
            "Requirement already satisfied: uritemplate<4dev,>=3.0.0 in /usr/local/lib/python3.6/dist-packages (from google-api-python-client>=1.2->PyDrive) (3.0.1)\n",
            "Requirement already satisfied: google-auth-httplib2>=0.0.3 in /usr/local/lib/python3.6/dist-packages (from google-api-python-client>=1.2->PyDrive) (0.0.4)\n",
            "Requirement already satisfied: cachetools<5.0,>=2.0.0 in /usr/local/lib/python3.6/dist-packages (from google-auth>=1.4.1->google-api-python-client>=1.2->PyDrive) (4.1.1)\n",
            "Requirement already satisfied: setuptools>=40.3.0 in /usr/local/lib/python3.6/dist-packages (from google-auth>=1.4.1->google-api-python-client>=1.2->PyDrive) (49.1.0)\n",
            "Drive already mounted at /content/drive; to attempt to forcibly remount, call drive.mount(\"/content/drive\", force_remount=True).\n"
          ],
          "name": "stdout"
        }
      ]
    },
    {
      "cell_type": "code",
      "metadata": {
        "id": "18lAJSGOxBOK",
        "colab_type": "code",
        "colab": {}
      },
      "source": [
        "df_path='/content/drive/My Drive/Datasets/Google stock prices/df.csv' \n",
        "df=pd.read_csv(df_path,header=0, index_col='Date',parse_dates=True)\n",
        "#print(df.columns)"
      ],
      "execution_count": 106,
      "outputs": []
    },
    {
      "cell_type": "code",
      "metadata": {
        "id": "N27GYWYgxqbz",
        "colab_type": "code",
        "colab": {}
      },
      "source": [
        "#Select columns that are needed\n",
        "df= df[['Adj. Open', 'Adj. High', 'Adj. Low', 'Adj. Close','Adj. Volume']]\n",
        "\n",
        "#Add a column with the values of high low percentage\n",
        "df['HL_PCT']= (df['Adj. High']- df['Adj. Close'])/ df['Adj. Close'] * 100.0\n",
        "\n",
        "#Calculate percentage change\n",
        "df['PCT_change']= (df['Adj. Close']- df['Adj. Open'])/ df['Adj. Open'] * 100.0\n",
        "\n",
        "#Re-define necessary columns\n",
        "df= df[['Adj. Close','HL_PCT','PCT_change','Adj. Volume']]\n",
        "\n",
        "#df.head()\n",
        "\n"
      ],
      "execution_count": 107,
      "outputs": []
    },
    {
      "cell_type": "code",
      "metadata": {
        "id": "s5uictXAK5CA",
        "colab_type": "code",
        "colab": {
          "base_uri": "https://localhost:8080/",
          "height": 252
        },
        "outputId": "367d131e-547f-4efb-fb67-9cde3ce88f25"
      },
      "source": [
        "#PART 2: FEATURES AND LABELS\n",
        "forecast_col= 'Adj. Close' #The name of the column that we will be forecasting  \n",
        "df.fillna(-99999, inplace=True) #Fill all the places with missing values with -99999. inplace=True is used to modify the values in the origial dataframe and not return a copy \n",
        "\n",
        "import math\n",
        "forecast_out= int(math.ceil(0.01*len(df))) #Predict value 1% of total days forward\n",
        "\n",
        "df['label']= df[forecast_col].shift(-forecast_out)  #shifting rows of the column to be forecasted upwards\n",
        "\n",
        "df.dropna(inplace=True)\n",
        "\n",
        "print(df.head())\n",
        "print(df.tail())"
      ],
      "execution_count": 108,
      "outputs": [
        {
          "output_type": "stream",
          "text": [
            "            Adj. Close    HL_PCT  PCT_change  Adj. Volume      label\n",
            "Date                                                                \n",
            "2004-08-19   50.322842  3.712563    0.324968   44659000.0  69.078238\n",
            "2004-08-20   54.322689  0.710922    7.227007   22834300.0  67.839414\n",
            "2004-08-23   54.869377  3.729433   -1.227880   18256100.0  68.912727\n",
            "2004-08-24   52.597363  6.417469   -5.726357   15247300.0  70.668146\n",
            "2004-08-25   53.164113  1.886792    1.183658    9188600.0  71.219849\n",
            "            Adj. Close    HL_PCT  PCT_change  Adj. Volume    label\n",
            "Date                                                              \n",
            "2018-01-30     1177.37  0.896914   -0.029718    1792602.0  1094.00\n",
            "2018-01-31     1182.22  0.346805   -0.134312    1643877.0  1053.15\n",
            "2018-02-01     1181.59  0.495942    0.476195    2774967.0  1026.55\n",
            "2018-02-02     1119.20  1.081129   -0.729098    5798880.0  1054.09\n",
            "2018-02-05     1068.76  4.325574   -2.893850    3742469.0  1006.94\n"
          ],
          "name": "stdout"
        }
      ]
    },
    {
      "cell_type": "code",
      "metadata": {
        "id": "VkxWwUke7Nl_",
        "colab_type": "code",
        "colab": {}
      },
      "source": [
        "#PART 3: REGRESSION TRAINING AND TESTING\n",
        "import numpy as np\n",
        "from sklearn import preprocessing, svm #for scaling features and other metrics | separate data into train and test\n",
        "from sklearn.linear_model import LinearRegression\n",
        "from sklearn.model_selection import train_test_split, cross_validate\n",
        "\n",
        "\n",
        "X = np.array(df.drop(['label'],1)) #store features\n",
        "\n",
        "#Part 4 change\n",
        "X = preprocessing.scale(X) #Normalising values between -1 and 1\n",
        "X_lately=X[-forecast_out:]\n",
        "X=X[:-forecast_out]\n",
        "\n",
        "\n",
        "df.dropna(inplace=True)\n",
        "\n",
        "y = np.array(df['label']) #store label\n",
        "y_lately=y[-forecast_out:]\n",
        "y=y[:-forecast_out]\n",
        "#y = y.dropna(inplace=True)\n",
        "\n",
        "\n",
        "#X = X[:-forecast_out + 1]\n",
        "\n",
        "\n",
        "#"
      ],
      "execution_count": 109,
      "outputs": []
    },
    {
      "cell_type": "code",
      "metadata": {
        "id": "mDHj5eGFgGSB",
        "colab_type": "code",
        "colab": {
          "base_uri": "https://localhost:8080/",
          "height": 34
        },
        "outputId": "2c878f1f-ff90-4d11-cbf6-45224e232e51"
      },
      "source": [
        "print(len(X), len(y)) #check to see whether features and labels are of same length "
      ],
      "execution_count": 110,
      "outputs": [
        {
          "output_type": "stream",
          "text": [
            "3354 3354\n"
          ],
          "name": "stdout"
        }
      ]
    },
    {
      "cell_type": "code",
      "metadata": {
        "id": "LTLtQleShTfm",
        "colab_type": "code",
        "colab": {}
      },
      "source": [
        "X_train, X_test, y_train, y_test= train_test_split(X, y, test_size=0.2) #shuffle and split the data into train and test sets\n",
        "\n",
        "clf= LinearRegression()\n",
        "clf.fit(X_train, y_train) #synonymous to training\n",
        "accuracy= clf.score(X_test, y_test) #synonymous to testing\n",
        "\n",
        "#print(accuracy)"
      ],
      "execution_count": 111,
      "outputs": []
    },
    {
      "cell_type": "code",
      "metadata": {
        "id": "derkBkTkiqvh",
        "colab_type": "code",
        "colab": {
          "base_uri": "https://localhost:8080/",
          "height": 35
        },
        "outputId": "6e5e6518-0189-42af-b29a-b8fda2bf1b25"
      },
      "source": [
        "#Using Support Vector Machine to switch algorithms\n",
        "#We replace it with Support Vector Regression\n",
        "\n",
        "#clf= svm.SVR()\n",
        "'''clf= svm.SVR(kernel='poly')\n",
        "clf.fit(X_train, y_train) #synonymous to training\n",
        "accuracy= clf.score(X_test, y_test) #synonymous to testing'''\n",
        "\n",
        "#print(accuracy)"
      ],
      "execution_count": 112,
      "outputs": [
        {
          "output_type": "execute_result",
          "data": {
            "application/vnd.google.colaboratory.intrinsic+json": {
              "type": "string"
            },
            "text/plain": [
              "\"clf= svm.SVR(kernel='poly')\\nclf.fit(X_train, y_train) #synonymous to training\\naccuracy= clf.score(X_test, y_test) #synonymous to testing\""
            ]
          },
          "metadata": {
            "tags": []
          },
          "execution_count": 112
        }
      ]
    },
    {
      "cell_type": "code",
      "metadata": {
        "id": "DdaByjeQlNeg",
        "colab_type": "code",
        "colab": {
          "base_uri": "https://localhost:8080/",
          "height": 134
        },
        "outputId": "0d2b6c41-cbbf-46e5-beed-2e613f53af5b"
      },
      "source": [
        "#PART 4: FORECASTING AND PREDICTING\n",
        "forecast_set = clf.predict(X_lately) \n",
        "\n",
        "print(forecast_set, accuracy, forecast_out)"
      ],
      "execution_count": 113,
      "outputs": [
        {
          "output_type": "stream",
          "text": [
            "[1081.94307824 1096.77982865 1110.64565791 1105.16091462 1098.65404196\n",
            " 1095.98436994 1094.29363461 1091.22644957 1085.09404135 1080.70767845\n",
            " 1078.34358568 1098.24623209 1116.80298695 1121.17321099 1136.19576175\n",
            " 1140.19960876 1138.77766504 1136.25889181 1138.03817452 1156.83761462\n",
            " 1156.03452368 1165.86416505 1162.43870033 1170.28770916 1190.94611392\n",
            " 1203.31326976 1197.63483369 1209.51854566 1215.1177754  1213.33045301\n",
            " 1204.03585103 1209.49136413 1208.35147886 1143.76255533 1090.50142808] 0.9781932453235451 35\n"
          ],
          "name": "stdout"
        }
      ]
    },
    {
      "cell_type": "code",
      "metadata": {
        "id": "QJ3vPYqswjQC",
        "colab_type": "code",
        "colab": {
          "base_uri": "https://localhost:8080/",
          "height": 517
        },
        "outputId": "2baa7559-cf5f-4d79-bcc4-5337c89416ec"
      },
      "source": [
        "import datetime \n",
        "import matplotlib.pyplot as plt\n",
        "from matplotlib import style\n",
        "\n",
        "style.use('ggplot')\n",
        "\n",
        "df['Forecast'] = np.nan\n",
        "last_date = df.iloc[-1].name\n",
        "\n",
        "\n",
        "last_unix = last_date.timestamp()\n",
        "\n",
        "one_day = 86400\n",
        "next_unix = last_unix + one_day \n",
        "\n",
        "for i in forecast_set:\n",
        "  next_date=datetime.datetime.fromtimestamp(next_unix)\n",
        "  next_unix += one_day\n",
        "  df.loc[next_date] = [np.nan for _ in range(len(df.columns)-1)] + [i]\n",
        "\n",
        "df['Adj. Close'].plot()\n",
        "df['Forecast'].plot()\n",
        "plt.legend(loc=4)\n",
        "plt.xlabel('Date')\n",
        "plt.ylabel('Price')\n",
        "#plt.rcParams[\"figure.figsize\"] = [15,9]\n",
        "\n",
        "plt.show()"
      ],
      "execution_count": 114,
      "outputs": [
        {
          "output_type": "display_data",
          "data": {
            "image/png": "[encoded data removed]",
            "text/plain": [
              "<Figure size 1080x648 with 1 Axes>"
            ]
          },
          "metadata": {
            "tags": []
          }
        }
      ]
    }
  ]
}