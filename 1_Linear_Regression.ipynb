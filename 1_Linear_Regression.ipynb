{
  "nbformat": 4,
  "nbformat_minor": 0,
  "metadata": {
    "colab": {
      "name": "1. Linear Regression.ipynb",
      "provenance": [],
      "collapsed_sections": [],
      "authorship_tag": "ABX9TyPWw5v+F805NRlfOrfzqD2Z"
    },
    "kernelspec": {
      "name": "python3",
      "display_name": "Python 3"
    }
  },
  "cells": [
    {
      "cell_type": "code",
      "metadata": {
        "id": "hXoIEMSrY4b3",
        "colab_type": "code",
        "colab": {}
      },
      "source": [
        "#pART 1: REGRESSION INTRODUCTION\n",
        "#!pip install quandl"
      ],
      "execution_count": 6,
      "outputs": []
    },
    {
      "cell_type": "code",
      "metadata": {
        "id": "-TW_XlUjtPd1",
        "colab_type": "code",
        "colab": {}
      },
      "source": [
        "import sklearn\n",
        "#import quandl\n",
        "import pandas as pd\n",
        "\n",
        "#df= quandl.get('WIKI/GOOGL')\n",
        "\n",
        "#print(df.head())"
      ],
      "execution_count": 7,
      "outputs": []
    },
    {
      "cell_type": "code",
      "metadata": {
        "id": "dN6puTk5tsmS",
        "colab_type": "code",
        "colab": {
          "base_uri": "https://localhost:8080/",
          "height": 35
        },
        "outputId": "dc2b9dc5-72b3-47b3-e5e5-da86310023bb"
      },
      "source": [
        "'''from google.colab import files\n",
        "\n",
        "df.to_csv('df.csv')\n",
        "files.download('df.csv')'''"
      ],
      "execution_count": 8,
      "outputs": [
        {
          "output_type": "execute_result",
          "data": {
            "application/vnd.google.colaboratory.intrinsic+json": {
              "type": "string"
            },
            "text/plain": [
              "\"from google.colab import files\\n\\ndf.to_csv('df.csv')\\nfiles.download('df.csv')\""
            ]
          },
          "metadata": {
            "tags": []
          },
          "execution_count": 8
        }
      ]
    },
    {
      "cell_type": "code",
      "metadata": {
        "id": "otqgOSo_wUat",
        "colab_type": "code",
        "colab": {
          "base_uri": "https://localhost:8080/",
          "height": 269
        },
        "outputId": "81c11fcd-9be5-4ffe-d3c9-ca4201dfc50a"
      },
      "source": [
        "!pip install PyDrive\n",
        "from google.colab import drive\n",
        "drive.mount('/content/drive')"
      ],
      "execution_count": 9,
      "outputs": [
        {
          "output_type": "stream",
          "text": [
            "Requirement already satisfied: PyDrive in /usr/local/lib/python3.6/dist-packages (1.3.1)\n",
            "Requirement already satisfied: google-api-python-client>=1.2 in /usr/local/lib/python3.6/dist-packages (from PyDrive) (1.7.12)\n",
            "Requirement already satisfied: PyYAML>=3.0 in /usr/local/lib/python3.6/dist-packages (from PyDrive) (3.13)\n",
            "Requirement already satisfied: oauth2client>=4.0.0 in /usr/local/lib/python3.6/dist-packages (from PyDrive) (4.1.3)\n",
            "Requirement already satisfied: six<2dev,>=1.6.1 in /usr/local/lib/python3.6/dist-packages (from google-api-python-client>=1.2->PyDrive) (1.15.0)\n",
            "Requirement already satisfied: google-auth-httplib2>=0.0.3 in /usr/local/lib/python3.6/dist-packages (from google-api-python-client>=1.2->PyDrive) (0.0.4)\n",
            "Requirement already satisfied: httplib2<1dev,>=0.17.0 in /usr/local/lib/python3.6/dist-packages (from google-api-python-client>=1.2->PyDrive) (0.17.4)\n",
            "Requirement already satisfied: google-auth>=1.4.1 in /usr/local/lib/python3.6/dist-packages (from google-api-python-client>=1.2->PyDrive) (1.17.2)\n",
            "Requirement already satisfied: uritemplate<4dev,>=3.0.0 in /usr/local/lib/python3.6/dist-packages (from google-api-python-client>=1.2->PyDrive) (3.0.1)\n",
            "Requirement already satisfied: pyasn1-modules>=0.0.5 in /usr/local/lib/python3.6/dist-packages (from oauth2client>=4.0.0->PyDrive) (0.2.8)\n",
            "Requirement already satisfied: rsa>=3.1.4 in /usr/local/lib/python3.6/dist-packages (from oauth2client>=4.0.0->PyDrive) (4.6)\n",
            "Requirement already satisfied: pyasn1>=0.1.7 in /usr/local/lib/python3.6/dist-packages (from oauth2client>=4.0.0->PyDrive) (0.4.8)\n",
            "Requirement already satisfied: setuptools>=40.3.0 in /usr/local/lib/python3.6/dist-packages (from google-auth>=1.4.1->google-api-python-client>=1.2->PyDrive) (49.1.0)\n",
            "Requirement already satisfied: cachetools<5.0,>=2.0.0 in /usr/local/lib/python3.6/dist-packages (from google-auth>=1.4.1->google-api-python-client>=1.2->PyDrive) (4.1.1)\n",
            "Drive already mounted at /content/drive; to attempt to forcibly remount, call drive.mount(\"/content/drive\", force_remount=True).\n"
          ],
          "name": "stdout"
        }
      ]
    },
    {
      "cell_type": "code",
      "metadata": {
        "id": "18lAJSGOxBOK",
        "colab_type": "code",
        "colab": {}
      },
      "source": [
        "df_path='/content/drive/My Drive/Datasets/Google stock prices/df.csv' \n",
        "df=pd.read_csv(df_path)\n",
        "#print(df.columns)"
      ],
      "execution_count": 10,
      "outputs": []
    },
    {
      "cell_type": "code",
      "metadata": {
        "id": "N27GYWYgxqbz",
        "colab_type": "code",
        "colab": {}
      },
      "source": [
        "#Select columns that are needed\n",
        "df= df[['Adj. Open', 'Adj. High', 'Adj. Low', 'Adj. Close','Adj. Volume']]\n",
        "\n",
        "#Add a column with the values of high low percentage\n",
        "df['HL_PCT']= (df['Adj. High']- df['Adj. Close'])/ df['Adj. Close'] * 100.0\n",
        "\n",
        "#Calculate percentage change\n",
        "df['PCT_change']= (df['Adj. Close']- df['Adj. Open'])/ df['Adj. Open'] * 100.0\n",
        "\n",
        "#Re-define necessary columns\n",
        "df= df[['Adj. Close','HL_PCT','PCT_change','Adj. Volume']]\n",
        "\n",
        "#df.head()\n",
        "\n"
      ],
      "execution_count": 11,
      "outputs": []
    },
    {
      "cell_type": "code",
      "metadata": {
        "id": "s5uictXAK5CA",
        "colab_type": "code",
        "colab": {
          "base_uri": "https://localhost:8080/",
          "height": 218
        },
        "outputId": "8fa43128-6334-49fe-ada3-487ebfd69689"
      },
      "source": [
        "#PART 2: FEATURES AND LABELS\n",
        "forecast_col= 'Adj. Close' #The name of the column that we will be forecasting  \n",
        "df.fillna(-99999, inplace=True) #Fill all the places with missing values with -99999. inplace=True is used to modify the values in the origial dataframe and not return a copy \n",
        "\n",
        "import math\n",
        "forecast_out= int(math.ceil(0.01*len(df))) #Predict value 1% of total days forward\n",
        "\n",
        "df['label']= df[forecast_col].shift(-forecast_out)  #shifting rows of the column to be forecasted upwards\n",
        "\n",
        "df.dropna(inplace=True)\n",
        "\n",
        "print(df.head())\n",
        "print(df.tail())"
      ],
      "execution_count": 12,
      "outputs": [
        {
          "output_type": "stream",
          "text": [
            "   Adj. Close    HL_PCT  PCT_change  Adj. Volume      label\n",
            "0   50.322842  3.712563    0.324968   44659000.0  69.078238\n",
            "1   54.322689  0.710922    7.227007   22834300.0  67.839414\n",
            "2   54.869377  3.729433   -1.227880   18256100.0  68.912727\n",
            "3   52.597363  6.417469   -5.726357   15247300.0  70.668146\n",
            "4   53.164113  1.886792    1.183658    9188600.0  71.219849\n",
            "      Adj. Close    HL_PCT  PCT_change  Adj. Volume    label\n",
            "3384     1177.37  0.896914   -0.029718    1792602.0  1094.00\n",
            "3385     1182.22  0.346805   -0.134312    1643877.0  1053.15\n",
            "3386     1181.59  0.495942    0.476195    2774967.0  1026.55\n",
            "3387     1119.20  1.081129   -0.729098    5798880.0  1054.09\n",
            "3388     1068.76  4.325574   -2.893850    3742469.0  1006.94\n"
          ],
          "name": "stdout"
        }
      ]
    },
    {
      "cell_type": "code",
      "metadata": {
        "id": "VkxWwUke7Nl_",
        "colab_type": "code",
        "colab": {}
      },
      "source": [
        "#PART 3: REGRESSION TRAINING AND TESTING\n",
        "import numpy as np\n",
        "from sklearn import preprocessing, svm #for scaling features and other metrics | separate data into train and test\n",
        "from sklearn.linear_model import LinearRegression\n",
        "from sklearn.model_selection import train_test_split, cross_validate\n",
        "X = np.array(df.drop(['label'],1)) #store features\n",
        "y = np.array(df['label']) #store label\n",
        "\n",
        "X = preprocessing.scale(X) #Normalising values between -1 and 1\n",
        "\n",
        "#X = X[:-forecast_out + 1]\n",
        "\n",
        "df.dropna(inplace=True)\n",
        "y = np.array(df['label'])"
      ],
      "execution_count": 20,
      "outputs": []
    },
    {
      "cell_type": "code",
      "metadata": {
        "id": "mDHj5eGFgGSB",
        "colab_type": "code",
        "colab": {}
      },
      "source": [
        "#print(len(X), len(y)) #check to see whether features and labels are of same length "
      ],
      "execution_count": null,
      "outputs": []
    },
    {
      "cell_type": "code",
      "metadata": {
        "id": "LTLtQleShTfm",
        "colab_type": "code",
        "colab": {
          "base_uri": "https://localhost:8080/",
          "height": 34
        },
        "outputId": "7d3d0612-7496-4d06-d99e-7e380434a06b"
      },
      "source": [
        "X_train, X_test, y_train, y_test= train_test_split(X, y, test_size=0.2) #shuffle and split the data into train and test sets\n",
        "\n",
        "clf= LinearRegression()\n",
        "clf.fit(X_train, y_train) #synonymous to training\n",
        "accuracy= clf.score(X_test, y_test) #synonymous to testing\n",
        "\n",
        "print(accuracy)"
      ],
      "execution_count": 22,
      "outputs": [
        {
          "output_type": "stream",
          "text": [
            "0.9755092870955445\n"
          ],
          "name": "stdout"
        }
      ]
    },
    {
      "cell_type": "code",
      "metadata": {
        "id": "derkBkTkiqvh",
        "colab_type": "code",
        "colab": {
          "base_uri": "https://localhost:8080/",
          "height": 34
        },
        "outputId": "6210c9bf-fbb3-492c-a5a0-e28ebe76e1fb"
      },
      "source": [
        "#Using Support Vector Machine to switch algorithms\n",
        "#We replace it with Support Vector Regression\n",
        "\n",
        "#clf= svm.SVR()\n",
        "clf= svm.SVR(kernel='poly')\n",
        "clf.fit(X_train, y_train) #synonymous to training\n",
        "accuracy= clf.score(X_test, y_test) #synonymous to testing\n",
        "\n",
        "print(accuracy)"
      ],
      "execution_count": 24,
      "outputs": [
        {
          "output_type": "stream",
          "text": [
            "0.6365869168227787\n"
          ],
          "name": "stdout"
        }
      ]
    }
  ]
}